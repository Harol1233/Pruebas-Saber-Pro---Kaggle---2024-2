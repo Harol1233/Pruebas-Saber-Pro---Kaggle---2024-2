{
 "cells": [
  {
   "cell_type": "code",
   "execution_count": 1,
   "id": "66d51871-ed08-4b77-a11e-720bf89e5852",
   "metadata": {},
   "outputs": [
    {
     "name": "stdout",
     "output_type": "stream",
     "text": [
      "El archivo 'solución.csv' ha sido generado y está listo para descargar.\n"
     ]
    }
   ],
   "source": [
    "# Importamos las librerías necesarias\n",
    "import pandas as pd\n",
    "import numpy as np\n",
    "from sklearn.model_selection import train_test_split\n",
    "from sklearn.preprocessing import StandardScaler, OneHotEncoder\n",
    "from sklearn.compose import ColumnTransformer\n",
    "from sklearn.pipeline import Pipeline\n",
    "from sklearn.svm import SVC\n",
    "\n",
    "# Cargamos solo el 10% de los datos de entrenamiento para reducir el tiempo de entrenamiento\n",
    "train_data = pd.read_csv('train.csv').sample(frac=0.1, random_state=42)\n",
    "test_data = pd.read_csv('test.csv')  # Cargar el conjunto completo de prueba\n",
    "\n",
    "# Imputación de valores faltantes en columnas categóricas\n",
    "categorical_columns = [\n",
    "    'ESTU_VALORMATRICULAUNIVERSIDAD', 'ESTU_HORASSEMANATRABAJA', 'FAMI_ESTRATOVIVIENDA',\n",
    "    'FAMI_TIENEINTERNET', 'FAMI_EDUCACIONPADRE', 'FAMI_EDUCACIONMADRE', 'ESTU_PAGOMATRICULAPROPIO'\n",
    "]\n",
    "\n",
    "for column in categorical_columns:\n",
    "    # Rellenamos valores faltantes en el conjunto de entrenamiento y prueba con la moda del conjunto de entrenamiento\n",
    "    mode_value = train_data[column].mode()[0]\n",
    "    train_data[column] = train_data[column].fillna(mode_value)\n",
    "    if column in test_data.columns:\n",
    "        test_data[column] = test_data[column].fillna(mode_value)\n",
    "\n",
    "# Definimos las características (X) y la variable objetivo (y) para el conjunto de entrenamiento reducido\n",
    "X_train = train_data.drop(columns=['ID', 'RENDIMIENTO_GLOBAL'])\n",
    "y_train = train_data['RENDIMIENTO_GLOBAL']\n",
    "\n",
    "# Definimos el conjunto de características (X_test) para el conjunto de prueba\n",
    "X_test = test_data.drop(columns=['ID'])\n",
    "\n",
    "# Identificamos las columnas numéricas y categóricas para el pipeline\n",
    "numeric_features = ['PERIODO']\n",
    "categorical_features = categorical_columns\n",
    "\n",
    "# Creamos transformadores para las columnas numéricas y categóricas\n",
    "numeric_transformer = StandardScaler()\n",
    "categorical_transformer = OneHotEncoder(drop='first', handle_unknown='ignore')\n",
    "\n",
    "# Creamos un preprocesador que aplique las transformaciones correspondientes\n",
    "preprocessor = ColumnTransformer(\n",
    "    transformers=[\n",
    "        ('num', numeric_transformer, numeric_features),\n",
    "        ('cat', categorical_transformer, categorical_features)\n",
    "    ])\n",
    "\n",
    "# Creamos un pipeline que incluya el preprocesador y el modelo SVM\n",
    "pipeline = Pipeline(steps=[\n",
    "    ('preprocessor', preprocessor),\n",
    "    ('classifier', SVC(kernel='linear', random_state=42))\n",
    "])\n",
    "\n",
    "# Entrenamos el modelo en el conjunto reducido de entrenamiento\n",
    "pipeline.fit(X_train, y_train)\n",
    "\n",
    "# Realizamos predicciones en el conjunto de prueba completo\n",
    "all_predictions = pipeline.predict(X_test)\n",
    "\n",
    "# Creamos el DataFrame para el archivo qué subiremos a Kaggle\n",
    "submission = pd.DataFrame({\n",
    "    'ID': test_data['ID'],  # Usar los IDs del conjunto de prueba completo\n",
    "    'RENDIMIENTO_GLOBAL': all_predictions\n",
    "})\n",
    "\n",
    "# Guardamos el archivo de envío en formato csv\n",
    "submission.to_csv('solucion.csv', index=False)\n",
    "print(\"El archivo 'solución.csv' ha sido generado y está listo para descargar.\")"
   ]
  }
 ],
 "metadata": {
  "kernelspec": {
   "display_name": "Python 3 (ipykernel)",
   "language": "python",
   "name": "python3"
  },
  "language_info": {
   "codemirror_mode": {
    "name": "ipython",
    "version": 3
   },
   "file_extension": ".py",
   "mimetype": "text/x-python",
   "name": "python",
   "nbconvert_exporter": "python",
   "pygments_lexer": "ipython3",
   "version": "3.12.7"
  }
 },
 "nbformat": 4,
 "nbformat_minor": 5
}
