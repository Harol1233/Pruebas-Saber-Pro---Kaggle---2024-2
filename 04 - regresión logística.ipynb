{
 "cells": [
  {
   "cell_type": "code",
   "execution_count": 3,
   "id": "deb9b6d2-17fd-4a8a-9c37-9adc2d82bc1f",
   "metadata": {},
   "outputs": [
    {
     "name": "stdout",
     "output_type": "stream",
     "text": [
      "El archivo 'solucion.csv' ha sido generado y está listo para descargar.\n"
     ]
    }
   ],
   "source": [
    "# Importar librerías necesarias\n",
    "import pandas as pd\n",
    "import numpy as np\n",
    "from sklearn.preprocessing import StandardScaler, OneHotEncoder\n",
    "from sklearn.compose import ColumnTransformer\n",
    "from sklearn.pipeline import Pipeline\n",
    "from sklearn.linear_model import LogisticRegression  # Usar el modelo Logistic Regression\n",
    "\n",
    "# Cargar el conjunto completo de datos de entrenamiento y el de prueba\n",
    "train_data = pd.read_csv('train.csv')\n",
    "test_data = pd.read_csv('test.csv')  # Cargar el conjunto completo de prueba\n",
    "\n",
    "# Paso 1: Imputación de valores faltantes en columnas categóricas\n",
    "categorical_columns = [\n",
    "    'ESTU_VALORMATRICULAUNIVERSIDAD', 'ESTU_HORASSEMANATRABAJA', 'FAMI_ESTRATOVIVIENDA',\n",
    "    'FAMI_TIENEINTERNET', 'FAMI_EDUCACIONPADRE', 'FAMI_EDUCACIONMADRE', 'ESTU_PAGOMATRICULAPROPIO'\n",
    "]\n",
    "\n",
    "for column in categorical_columns:\n",
    "    # Rellenar valores faltantes en el conjunto de entrenamiento y prueba con la moda del conjunto de entrenamiento\n",
    "    mode_value = train_data[column].mode()[0]\n",
    "    train_data[column] = train_data[column].fillna(mode_value)\n",
    "    if column in test_data.columns:\n",
    "        test_data[column] = test_data[column].fillna(mode_value)\n",
    "\n",
    "# Definir las características (X) y la variable objetivo (y) para el conjunto de entrenamiento\n",
    "X_train = train_data.drop(columns=['ID', 'RENDIMIENTO_GLOBAL'])\n",
    "y_train = train_data['RENDIMIENTO_GLOBAL']\n",
    "\n",
    "# Definir el conjunto de características (X_test) para el conjunto de prueba\n",
    "X_test = test_data.drop(columns=['ID'])\n",
    "\n",
    "# Identificar columnas numéricas y categóricas para el pipeline\n",
    "numeric_features = ['PERIODO']\n",
    "categorical_features = categorical_columns\n",
    "\n",
    "# Crear transformadores para las columnas numéricas y categóricas\n",
    "numeric_transformer = StandardScaler()\n",
    "categorical_transformer = OneHotEncoder(drop='first', handle_unknown='ignore')\n",
    "\n",
    "# Crear un preprocesador que aplique las transformaciones correspondientes\n",
    "preprocessor = ColumnTransformer(\n",
    "    transformers=[\n",
    "        ('num', numeric_transformer, numeric_features),\n",
    "        ('cat', categorical_transformer, categorical_features)\n",
    "    ])\n",
    "\n",
    "# Crear un pipeline que incluya el preprocesador y el modelo de Regresión Logística\n",
    "pipeline = Pipeline(steps=[\n",
    "    ('preprocessor', preprocessor),\n",
    "    ('classifier', LogisticRegression(max_iter=1000, random_state=42))\n",
    "])\n",
    "\n",
    "# Entrenar el modelo en el conjunto completo de entrenamiento\n",
    "pipeline.fit(X_train, y_train)\n",
    "\n",
    "# Realizar predicciones en el conjunto de prueba completo\n",
    "all_predictions = pipeline.predict(X_test)\n",
    "\n",
    "# Crear el DataFrame para el archivo de envío\n",
    "submission = pd.DataFrame({\n",
    "    'ID': test_data['ID'],  # Usar los IDs del conjunto de prueba completo\n",
    "    'RENDIMIENTO_GLOBAL': all_predictions\n",
    "})\n",
    "\n",
    "# Guardar el archivo de envío en formato CSV\n",
    "submission.to_csv('solucion.csv', index=False)\n",
    "print(\"El archivo 'solucion.csv' ha sido generado y está listo para descargar.\")"
   ]
  }
 ],
 "metadata": {
  "kernelspec": {
   "display_name": "Python 3 (ipykernel)",
   "language": "python",
   "name": "python3"
  },
  "language_info": {
   "codemirror_mode": {
    "name": "ipython",
    "version": 3
   },
   "file_extension": ".py",
   "mimetype": "text/x-python",
   "name": "python",
   "nbconvert_exporter": "python",
   "pygments_lexer": "ipython3",
   "version": "3.12.7"
  }
 },
 "nbformat": 4,
 "nbformat_minor": 5
}
